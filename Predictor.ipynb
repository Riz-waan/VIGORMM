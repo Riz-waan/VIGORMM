{
  "nbformat": 4,
  "nbformat_minor": 0,
  "metadata": {
    "colab": {
      "name": "Predictor.ipynb",
      "provenance": [],
      "mount_file_id": "1M1L0HxImUUYiEoYXyFj2kb5OTW9zTz9N",
      "authorship_tag": "ABX9TyORs0hUNKXdzN7PKGIccDde",
      "include_colab_link": true
    },
    "kernelspec": {
      "name": "python3",
      "display_name": "Python 3"
    },
    "language_info": {
      "name": "python"
    }
  },
  "cells": [
    {
      "cell_type": "markdown",
      "metadata": {
        "id": "view-in-github",
        "colab_type": "text"
      },
      "source": [
        "<a href=\"https://colab.research.google.com/github/Riz-waan/VIGORMM/blob/main/Predictor.ipynb\" target=\"_parent\"><img src=\"https://colab.research.google.com/assets/colab-badge.svg\" alt=\"Open In Colab\"/></a>"
      ]
    },
    {
      "cell_type": "code",
      "source": [
        "from google.colab import drive\n",
        "drive.mount('/content/drive')"
      ],
      "metadata": {
        "id": "afFdNGTa1ium"
      },
      "execution_count": null,
      "outputs": []
    },
    {
      "cell_type": "code",
      "execution_count": 4,
      "metadata": {
        "id": "Di6Tir7fyomk"
      },
      "outputs": [],
      "source": [
        "from keras.models import load_model\n",
        "import numpy as np\n",
        "from math import acos, degrees\n",
        "\n",
        "autoencoder = load_model(\"drive/MyDrive/VIGOR/AE/Models/dae-xyz-v4b.h5\")\n",
        "training_file = open('drive/MyDrive/VIGOR/AE/CSVs/training-vid.csv', 'r')\n",
        "training_file2 = open('drive/MyDrive/VIGOR/AE/CSVs/training-vid2.csv', 'r')\n",
        "\n",
        "training_data = []\n",
        "training_data2 = []\n",
        "\n",
        "for line in training_file.readlines():\n",
        "    for data in line.split(\",\"):\n",
        "        if data != \"\\n\" or data != \"\":\n",
        "            try:\n",
        "                training_data.append(float(data))\n",
        "            except ValueError:\n",
        "                pass\n",
        "\n",
        "for line in training_file2.readlines():\n",
        "    for data in line.split(\",\"):\n",
        "        if data != \"\\n\" or data != \"\":\n",
        "            try:\n",
        "                training_data2.append(float(data))\n",
        "            except ValueError:\n",
        "                pass\n",
        "training_data = np.reshape(training_data, (-1, 9, 1))\n",
        "training_data2 = np.reshape(training_data2, (-1, 9, 1))\n",
        "prediction_data = autoencoder.predict([training_data, training_data2])\n",
        "\n",
        "prediction_file = open('drive/MyDrive/VIGOR/AE/CSVs/prediction-vidsmall.csv', 'w')\n",
        "prediction_data = np.reshape(prediction_data, (-1, 18, 1))\n",
        "\n",
        "for frame in prediction_data:\n",
        "    for data in frame:\n",
        "        prediction_file.write(str(data[0]))\n",
        "        prediction_file.write(\",\")\n",
        "    prediction_file.write(\"\\n\")\n"
      ]
    }
  ]
}