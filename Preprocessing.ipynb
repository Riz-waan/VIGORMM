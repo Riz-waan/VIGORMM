{
  "cells": [
    {
      "cell_type": "markdown",
      "metadata": {
        "id": "view-in-github",
        "colab_type": "text"
      },
      "source": [
        "<a href=\"https://colab.research.google.com/github/Riz-waan/VIGORMM/blob/main/Preprocessing.ipynb\" target=\"_parent\"><img src=\"https://colab.research.google.com/assets/colab-badge.svg\" alt=\"Open In Colab\"/></a>"
      ]
    },
    {
      "cell_type": "code",
      "execution_count": 2,
      "metadata": {
        "id": "-4oTVsPm7RvH"
      },
      "outputs": [],
      "source": [
        "from music21 import converter, instrument, note, chord, midi, stream\n",
        "import glob\n",
        "import numpy as np\n",
        "import matplotlib.pyplot as plt\n",
        "from keras.utils import np_utils\n",
        "from keras.models import Sequential\n",
        "from keras.layers import Dense, Input, LSTM, Dropout, Activation\n",
        "from keras.callbacks import EarlyStopping, ModelCheckpoint\n"
      ]
    },
    {
      "cell_type": "code",
      "source": [
        "from google.colab import drive\n",
        "drive.mount('/content/drive')"
      ],
      "metadata": {
        "colab": {
          "base_uri": "https://localhost:8080/"
        },
        "id": "B7EYu7NhBAGX",
        "outputId": "0978400f-a7be-4216-d1ce-844f6d4d83da"
      },
      "execution_count": 3,
      "outputs": [
        {
          "output_type": "stream",
          "name": "stdout",
          "text": [
            "Mounted at /content/drive\n"
          ]
        }
      ]
    },
    {
      "cell_type": "markdown",
      "metadata": {
        "id": "1SOjE03C7RvL"
      },
      "source": [
        "### Preprocessing\n",
        "First we must load the data from the songs. To do this, we'll go through all the songs in our training data of MIDI files. We parse them with music21 to get the individual notes. If the element is a chord, then it is converted to it's numerical representation. After this step we will have all of the notes/chords that appear in string form, and a corresponding vocabulary as a set of them all."
      ]
    },
    {
      "cell_type": "code",
      "execution_count": 4,
      "metadata": {
        "id": "eoRQKosU7RvN",
        "outputId": "0f37a5aa-e084-4f7a-dfbc-634064160576",
        "colab": {
          "base_uri": "https://localhost:8080/"
        }
      },
      "outputs": [
        {
          "output_type": "stream",
          "name": "stdout",
          "text": [
            "Song 1 Loaded\n",
            "Song 2 Loaded\n",
            "DONE LOADING SONGS\n",
            "152\n",
            "['F6', 'D6', 'C#6', 'C6', 'B-5', 'G5', 'B-5', 'C6', 'C#6', 'C6', 'B-5', 'G5', 'F5', 'G5', '5.9', '7.10', '5.9', '7.10', 'C6', '5.9', '7.10', '5.9', '7.10', 'A5', 'G5', 'G6', 'F6', 'D6', 'C#6', 'C6', 'B-5', 'G5', 'B-5', 'C6', 'C#6', 'C6', 'B-5', 'G5', 'F5', 'G5', '5.9', '7.10', '5.9', '7.10', 'C6', '5.9', '7.10', '5.9', '7.10', 'A5', 'G5', 'C3', 'E-3', 'G#3', 'B-3', 'C4', 'G#3', 'E-4', 'B-4', 'C5', 'G#4', 'E-5', 'B-5', 'C6', 'G5', 'B-5', 'G#5', 'G5', 'F#5', 'F#5', 'G5', 'F#5', 'F5', 'F#5', 'A5', 'G5', 'E-5', 'E-5', 'D5', 'F5', 'E-5', 'D5', 'D5', 'C5', 'G4', 'B-4', 'C4', 'D4', 'F#4', 'B-4', 'A4', 'G4', '10.2', '10.2', 'D5', '2.7', '2.7', 'C5', '0.3.7', '0.3.7', 'C4', 'D4', 'F#4', 'B-4', 'A4', 'G4', '10.2', '10.2', 'E4', '7.9.1', '7.9.1', 'F#4', '2.6.9', '2.6.9', 'C4', 'D4', 'F#4', 'B-4', 'A4', 'G4', '10.2', '10.2', 'G5', '7.10.1', '7.10.1', 'F5', '10.0', '10.0', 'E-4', 'F4', 'A4', 'E-5', 'D5', 'C#5', 'C#5', '3.5.9', '3.5.9', 'D5', '10.2.5', '10.2.5', 'C5', '3.7', '3.7', 'C4', 'D4', 'F#4', 'B-4', 'A4', 'G4', '10.2', '10.2', 'D5', '2.7', '2.7', 'C5', '0.3.7', '0.3.7', 'C4', 'D4', 'F#4', 'B-4', 'A4', 'G4', '10.2', '10.2', 'E4', '7.9.1', '7.9.1', 'F#4', '2.6.9', '2.6.9', 'C4', 'D4', 'F#4', 'B-4', 'A4', 'G4', '11.2.5', '11.2.5', 'G5', '11.2.5.7', '11.2.5.7', 'G5', '0.3.7', '0.3.7', 'D5', '2.7', '2.7', 'C5', '7.0', '7.0', 'G4', '10.2', '10.2', 'G5', '0.3.7', '0.3.7', 'D5', '2.7', '2.7', 'C5', '7.0', '7.0', 'G4', '10.1', '10.1', 'F4', '10.2', '10.2', 'D5', '10.2.5', '10.2.5', '3.9', 'D5', '9.0.3', '9.11.3', '9.0.3', '9.2.3', '3.9', 'E-5', '10.3', '10.3', '10.2', 'D5', '10.2', '10.2', '0.6', 'B-4', '6.9.0', '6.8.0', '6.9.0', '6.10.0', '0.6', 'C5', '7.0', '7.0', '7.10', 'B-4', '7.10', '7.10', '3.7', 'A4', '3.7', '3.7', '2.6', 'A4', '2.6', '2.6', 'A4', 'A3', 'E4', 'A4', 'A4', 'B-4', 'A4', 'G#4', 'A4', 'G5', 'E5', 'F5', 'F5', 'G6', 'F6', 'E6', 'E-6', 'C6', 'A5', 'B-5', 'D6', 'C6', 'B-5', 'G5', 'F5', 'D5', 'E-5', 'E5', 'F5', 'F#5', 'A5', 'G5', 'F5', 'E-5', 'C#5', 'D5', 'C5', 'G4', 'B-4', 'F#4', 'G4', '10', 'D5', 'F5', 'E-5', '9', 'C#5', 'E-5', 'D5', '10', 'D5', 'F5', 'E-5', '8', 'C#5', 'E-5', 'D5', '7', 'B4', 'D5', 'C5', '0', 'G#4', 'B-4', 'A4', '3', 'B4', 'D5', 'C5', 'E-4', 'G4', 'D4', 'C#4', '6.9', 'C4', '7.10', '10', 'D5', 'F5', 'E-5', '9', 'C#5', 'E-5', 'D5', '10', 'D5', 'F5', 'E-5', '8', 'C#5', 'E-5', 'D5', '7', 'B4', 'D5', 'C5', '0', 'G#4', 'B-4', 'A4', '3', 'B4', 'D5', 'C5', '6', 'C#4', 'E-4', 'D4', '7.10', '7.0', 'B-3', 'A3', 'G3', '7.10', '7.0', 'B-3', 'A3', 'G3', 'F4', 'C4', 'E-4', 'F#3', 'C4', 'E-4', 'F#4', 'C5', 'F5', 'E-5', 'D5', 'C5', '7.10', '7.0', 'B-4', 'A4', 'G4', '7.10', '7.0', 'B-4', 'A4', 'G4', 'F5', 'C5', 'E-5', 'F#4', 'C5', 'E-5', 'F#5', 'C6', 'F6', 'E-6', 'D6', 'C6', '7.10', '7.0', 'B-6', 'D6', '6.10', 'A6', 'D6', '6.10', 'A5', 'D5', '7.0', 'B-5', 'D6', '7.0', 'B-6', 'D6', '6.10', 'A6', 'D6', '6.10', 'A5', 'D5', '7.0', 'B-5', 'D6', '7.0', 'B-6', 'D6', '6.10', 'A6', 'D6', '6.10', 'A5', 'D5', '7.0', 'B-4', 'D5', '7.0', 'B-5', 'D5', '6.10', 'A5', 'D5', '6.10', 'A4', 'D4', '7.0', 'B-4', 'D5', '7.0', 'B-5', 'D5', '9.2', 'G5', 'B-4', '10.3', 'D5', 'G4', '7.0', 'B-4', 'D4', '9.2', 'G4', 'B-3', '10.3', 'D4', 'G3', '7.0', 'B-3', 'D3', '7.0', 'B-3', 'D3', '2.7', 'C4', 'E-3', '7.0', 'B-3', 'D3', '2.7', 'C4', 'E-3', '7.0', 'B-3', 'D3', '2.7', 'C4', 'E-3', '7.0', 'B-3', 'D3', '2.7', 'C4', 'E-3', 'G3', 'D4', 'B-3', 'D4', 'G4', 'B-4', 'D5', 'G5', 'B-5', 'D6', 'G6', 'D7', 'B-6', 'D7', 'G6', 'D6', 'B-5', 'G5', 'D5', 'B-4', 'G4', 'D4', 'B-3', 'D3', 'G3', 'D4', 'B-3', 'D4', 'G4', 'D5', 'B-4', 'D5', 'G4', 'D4', 'B-3', 'D3', 'F#3', 'D4', 'B-3', 'D4', 'F#4', 'D5', 'B-4', 'D5', 'F#4', 'D4', 'B-3', 'D3', 'G3', 'D4', 'B-3', 'D4', 'G4', 'B-4', 'D5', 'G5', 'B-5', 'D6', 'G6', 'D7', 'B-6', 'D7', 'G6', 'D6', 'B-5', 'G5', 'D5', 'B-4', 'G4', 'D4', 'B-3', 'D3', 'F#3', 'D4', 'B-3', 'D4', 'F#4', 'D5', 'B-4', 'D5', 'F#4', 'D4', 'B-3', 'D3', 'F3', 'D4', 'B-3', 'D4', 'F4', 'D5', 'B-4', 'D5', 'F4', 'D4', 'B-3', 'D3', 'F3', 'C4', 'A3', 'C4', 'F4', 'A4', 'C5', 'F5', 'A5', 'C6', 'F6', 'A6', 'F7', '0.5', 'D4', 'G4', 'G4', 'E-4', 'E-5', 'D5', '7.0', 'D5', 'A4', 'D5', 'B-4', 'B-5', 'B-5', 'B-5', 'G#5', 'G#5', 'G5', 'F#5', 'F#5', 'G5', 'G#5', 'E-5', 'G5', 'F5', 'G5', 'D5', 'F5', 'E-5', 'D5', 'C5', 'D5', 'C5', 'B4', 'C5', 'D5', 'E-5', 'C4', 'F4', 'D4', 'G4', 'G4', 'E-4', 'E-5', 'D5', '7.0', 'A4', 'D5', 'D5', 'B-4', 'B-5', 'B-5', 'B-5', 'C5', 'D5', 'E-5', 'F5', 'E-5', 'D5', 'E-5', 'G5', 'G5', 'F5', 'E-5', 'E-5', 'G4', 'G#4', 'B-4', 'D5', 'C5', 'B-4', 'G4', 'G#4', 'B-4', 'D5', 'C5', 'B-4', 'F4', 'G#4', 'B-4', 'D5', 'C5', 'B-4', 'C#4', 'E-4', 'G4', 'C5', 'B-4', 'G#4', 'B3', 'E-4', 'F4', 'G4', 'G4', 'G#4', 'B-4', 'D5', 'C5', 'B-4', 'B-5', 'G4', 'G#4', 'B-4', 'D5', 'C5', 'B-4', 'B-5', 'F4', 'G#4', 'B-4', 'D5', 'C5', 'B-4', 'C#4', 'E-4', 'G4', 'C5', 'B-4', 'G#4', 'B3', 'E-4', 'F4', 'G4', 'G4', 'B-4', 'G5', 'F5', 'E-5', 'D5', 'B-4', 'D5', 'B-5', 'D5', 'E-5', 'E5', 'F5', 'D5', 'F5', 'D6', 'C6', 'B-5', 'G#5', 'A5', 'F6', 'E6', 'D6', 'A5', 'D5', 'A4', 'F4', 'D4', 'E4', 'G4', 'F4', 'D4', 'E4', 'G#4', 'C5', 'B4', 'A4', '0.4', '0.4', 'E5', 'A4', 'A4', 'D5', '5.9', '5.9', 'D4', 'E4', 'G#4', 'C5', 'B4', 'A4', '0.4', '0.4', 'F#4', '9.0.4', '9.0.4', 'G#4', '11.4', '11.4', 'D4', 'E4', 'G#4', 'C5', 'B4', 'A4', '0.4', '0.4', 'E5', '9.0', '9.0', 'F#5', '9.0.4', '9.0.4', 'C4', 'E4', 'G#4', 'B4', 'A4', 'A4', '0.4', '0.4', 'F#5', '9.0.4', '9.0.4', 'G#5', '9.0.3', '9.0.3', 'F#5', '9.0.3', 'G#5', 'G#5', '9.0.3', '9.0.3', 'F#5', '9.0.3', 'G#5', 'G#5', '9.0.3', '9.0.3', 'F#5', '9.0.3', 'G#5', 'A5', '0.3.6', '0.3.6', 'G#5', '0.3.6', '0.3.6.9', '8.11.2.4', '1.2.4.8', '1.2.4.8', '9.1', '9.1', '8.1', '1.6', '8.11.3', '3.8.9', '4.8', '4', '4', 'A5', '4', '2', '2', '4', '2', '1', '2', '6', '4', '2', 'G#5', '1', '1', '2', '1', '0', '1', '4', '2', 'F#5', '1', '11', '10', '11', 'F5', '0', '1', '8', '1.6', '11', 'A5', 'A4', 'G#5', 'F#5', 'G#5', '3.6.9.11', '3.5.9.11', '3.6.9.11', '8.9.11.3', '9.11.3', '8.11.2.4', '1.4.8', '1.2.4.8', '9.1', '9.1', '9.1', '8.1', '1.6', '8.11.3', '3.8.9', '4.8', '4', '4', '4', '6', '6', '8', '6', '5', '6', '8', '10', '11', '1', '2', '4', '6', '8', '8', 'G#4', 'G#5', 'A5', 'G#5', '7', '8', '10', '0', '1', '3', '4', '6', '8', '8', '8', '8', '10', '8', '7', '8', '10', '11', '1', '3', '5', '7', '8', '10', '11', '8.11', 'F6', 'E-6', 'B5', '8.11', 'F5', 'E-5', 'B4', '8.11', 'F4', 'E-4', 'B3', '8.11', 'F3', 'E-3', 'B2', '8.11', 'F3', 'E-3', 'B2', 'G#3', 'B3', 'F3', 'B-3', 'G#3', 'B3', 'F3', 'B-3', 'G#3', 'B3', 'F3', 'B-3', 'G#3', 'B3', 'F3', 'B-3', 'G#3', 'B3', 'F3', 'B-3', 'G#3', 'B3', 'F3', 'B-3', 'G#3', 'B3', 'F3', 'B-3', 'G#3', 'B3', 'F3', 'B-3', 'G#3', 'B3', 'F3', 'B-3', 'G#3', 'B3', 'F3', 'B-3', 'G#3', 'B3', 'F3', 'B-3', 'G#3', 'B3', 'F3', 'B-3', 'G#3', 'B3', 'F3', 'B-3', 'B-3', 'D4', 'B3', 'D4', 'C#4', 'F4', 'D4', 'G#4', 'E4', 'G#4', 'F4', 'B4', 'G4', 'B4', 'G#4', 'D5', 'B-4', 'D5', 'B4', 'D5', 'C#5', 'F5', 'D5', 'G#5', 'E5', 'G#5', 'F5', 'B5', 'G5', 'B5', 'G#5', 'D6', 'B-5', 'D6', 'B5', 'D6', 'C#6', 'F6', 'D6', 'G#6', 'E6', 'G#6', 'F6', 'B6', 'G6', 'B6', 'B-6', 'G#6', 'B6', 'F6', 'B-6', 'G#6', 'C7', 'F6', 'B-6', 'G#6', 'C#7', 'F6', 'B-6', 'G#6', 'D7', 'F6', 'B-6', 'G#6', 'E-7', 'F6', 'B-6', 'G#6', 'E7', 'F6', 'F7', 'D7', 'C#7', 'E7', 'E-7', 'C7', 'B6', 'D7', 'C#7', 'B-6', 'A6', 'C7', 'B6', 'G#6', 'G6', 'B-6', 'G#6', 'F6', 'D6', 'B-5', 'A5', 'B-5', 'G#5', 'B-5', 'F#5', 'G5', 'G6', 'D6', 'E-6', 'B5', 'C6', 'G5', 'B-5', 'G#5', 'G5', 'F5', 'F#5', 'G5', 'G6', 'D6', 'E-6', 'B5', 'C6', 'G5', 'B-5', 'G#5', 'G5', 'F5', 'F#5', 'G5', 'G6', 'D6', 'E-6', 'B5', 'C6', 'G5', 'B-5', 'G#5', 'G5', 'F5', 'E-5', 'A5', 'F5', 'D5', 'A5', 'F5', 'C5', 'A5', 'F5', 'B-4', 'A5', 'F5', 'F#5', 'G5', 'G6', 'D6', 'E-6', 'B5', 'C6', 'G5', 'B-5', 'G#5', 'G5', 'F5', 'F#5', 'G5', 'G6', 'D6', 'E-6', 'B5', 'C6', 'G5', 'B-5', 'G#5', 'G5', 'F5', 'F#5', 'G5', 'G6', 'D6', 'E-6', 'B5', 'C6', 'G5', 'B-5', 'G#5', 'G5', 'F5', 'E5', 'E-5', 'D5', 'C#5', 'C5', 'B4', 'B-4', 'A4', 'C5', 'B-4', 'A4', 'G#4', 'G4', 'G#4', 'A4', 'B-4', 'C5', 'B-4', 'G#4', 'B-4', 'B4', 'C5', 'C#5', 'C5', 'A4', 'B-4', 'B4', 'C5', 'D5', 'C5', 'B-4', 'C5', 'C#5', 'D5', 'E-5', 'D5', 'B4', 'C5', 'C#5', 'D5', 'E-5', 'D5', 'C5', 'C#5', 'D5', 'E-5', 'E5', 'F5', 'G5', 'F5', 'E5', 'E-5', 'D5', 'C#5', 'C5', 'B4', 'B-4', 'A4', 'B-4', 'G#4', 'G4', 'B-3', 'B-4', 'D4', 'B4', 'B-3', 'B-4', 'E-4', 'G4', 'E4', 'C#5', 'C4', 'C5', 'F4', 'A4', 'E4', 'C#5', 'C4', 'C5', 'F4', 'A4', 'F#4', 'E-5', 'D4', 'D5', 'G4', 'B4', 'F#4', 'E-5', 'D4', 'D5', 'G4', 'B-4', 'G#4', 'F5', 'E4', 'E5', 'A4', 'C#5', 'B-4', 'G5', 'F#4', 'F#5', 'B4', 'E-5', 'C5', 'A5', '1.6', 'C5', 'C#5', 'E-5', 'F5', 'F#5', 'G#5', 'A5', 'B5', 'C#6', 'E-6', 'F6', 'F#6', 'G#6', 'A6', 'F#6', 'C#6', 'A5', 'F#5', 'C#5', 'A4', 'F#4', 'C#4', 'A3', 'F#4', 'E-4', 'A4', 'A4', 'F#5', 'E-5', 'A5', 'A5', 'F#6', 'E-6', 'A6', 'F#6', 'A6', 'E-6', 'A5', 'F#5', 'A5', 'E-5', 'A4', 'F#4', 'A4', 'E-4', 'A3', '3.7.10', 'A3', 'B-3', 'C4', 'D4', 'E-4', 'E4', 'G4', 'F4', 'G4', 'F4', 'C5', 'B-4', 'A4', 'B-4', 'C5', 'D5', 'E-5', 'E5', 'G5', 'F5', 'G5', 'F5', 'C6', 'B-5', 'A5', 'B-5', 'C6', 'D6', 'E-6', 'E6', 'G6', 'F6', 'G6', 'F6', 'B-6', 'A5', 'B-5', 'C6', 'D6', 'E-6', 'E6', 'G6', 'F6', 'G6', 'F6', 'B-6', 'F6', 'F7', 'E7', 'E-7', 'D7', 'C7', 'B-6', 'A6', 'G6', 'F6', 'E6', 'E-6', 'D6', 'C6', 'B-5', 'A5', 'G5', 'F5', 'E5', 'E-5', 'C#5', 'B4', 'B-4', 'G#4', 'F#4', 'F4', 'E-4', 'C#4', 'B3', 'B-3', 'G#3', 'F#3', 'F3', 'E-3', 'C#3', 'B2', 'B-2', 'G#2', 'F#2', 'F2', 'E-2', 'C#2', 'B1', '7.10.2', '2.7.8', '3.7', '3.7', '10.2.3', '10.0.3', '2.5.9', '9.2.3', '10.2', '10', '11', '0', '10.1', '0.4', '10.11', '0.4', '8.0', '8', '0.3', '10.2', '8.0', '10.2', '8.9', '10.2', '7.10', '7', '10.2', '8.0', '10.3', '8.0', '3.7', '8.0', '5.8', '5', '5.8', '5.7', 'B-5', '5.8', '5.7', '3.7', '3.8', '3.9', '5.8.10', '7.8.10.2', '7.8.10.2', '3.7', '3.7', '10.2.3', '10.0.3', '2.5.9', '9.2.3', '10.2', '10', '10', '10', 'C4', 'C5', '2', 'E-4', 'E-5', 'F5', 'E-5', '2', '3', '2.7', 'D5', 'G#4', 'G5', 'B-4', 'G#4', 'F5', 'E-5', '3.7', 'G4', 'G#4', 'B-4', 'D5', 'C5', 'B-4', 'G4', 'G#4', 'B-4', 'D5', 'C5', 'B-4', 'F4', 'G#4', 'B-4', 'D5', 'C5', 'B-4', 'C#4', 'E-4', 'G4', 'C5', 'B-4', 'G#4', 'B3', 'E-4', 'F4', 'G4', 'G4', 'G#4', 'B-4', 'D5', 'C5', 'B-4', 'B-5', 'B-6', 'G4', 'G#4', 'B-4', 'D5', 'C5', 'B-4', 'B-5', 'B-6', 'F4', 'G#4', 'B-4', 'D5', 'C5', 'B-4', 'C#4', 'E-4', 'G4', 'C5', 'B-4', 'G#4', 'B3', 'E-4', 'F4', 'G4', 'G4', 'B-4', 'G5', 'F5', 'E-5', 'B-4', 'G4', 'B-4', 'G5', 'F5', 'E-5', 'D5', 'B-4', 'D5', 'B-5', 'A5', 'G5', 'D5', 'B-4', 'D5', 'B-5', 'A5', 'G5', 'D5', 'B-4', 'D5', 'B-5', 'A5', 'G5', 'D5', 'B-4', 'D5', 'B-5', 'A5', 'G5', 'D5', 'A5', 'C6', 'B-5', 'G5', 'E-5', 'B-4', 'G4', 'C4', 'D4', 'F4', 'E-4', 'C4', 'D4', 'F#4', 'B-4', 'A4', 'G4', '10.2', '10.2', 'D5', 'G4', 'G4', 'C5', '3.7', '3.7', 'C4', 'D4', 'F#4', 'B-4', 'A4', 'G4', '10.2', '10.2', 'E4', '7.9.1', '7.9.1', 'F#4', '2.6.9', '2.6.9', 'C4', 'D4', 'F#4', 'B-4', 'A4', 'G4', '10.2', '10.2', 'D5', '7.10', '7.10', 'E5', '7.10', '7.10', 'B-3', 'C#4', 'E4', 'A4', 'G4', 'G4', '10.1.4', '10.1.4', 'E5', '7.10.1', '7.10.1', 'F#5', '7.10.1', '7.10.1', 'E5', '7.10.1', 'F#5', 'F#5', '7.10.1', '7.10.1', 'E5', '7.10.1', 'F#5', 'F#5', '7.10.1', '7.10.1', 'E5', '7.10.1', 'F#5', 'A5', '10.1.4', '10.1.4', 'G5', '10.1.4', 'A5', '10.2', '10.2', '0.3', '10.2', '9.0', '7.10', '6.9', '7.10', '5.9', '3.7', '3.7', '2.6', '0.3', '10.2', '9.0', '7.10', '6.9', '0.3', '0.2', '11.2', '10.2', '9.2', '2.8', '9.2', '10.2', '9.2', '0.2', '10.2', '2.7', '7.10.2', 'A5', '7.10.2', '7.10.2', 'F#5', '7.10.2', '7.10.2', 'C#5', '7.10.2', '7.10.2', 'B-4', '0.3.7', '0.3.7', 'D5', 'C#5', 'C5', '0.3.7', 'D5', 'C#5', 'C5', '0.3.6', 'D5', 'C#5', 'C5', '2.6.9', 'C5', '7.10.2', '7.10.2', 'A5', '7.10.2', '7.10.2', 'F#5', '7.10.2', '7.10.2', 'C#5', '7.10.2', '7.10.2', 'B-4', '0.3.7', '0.3.7', 'D5', 'C#5', 'C5', '0.3.7', 'D5', 'C#5', 'C5', '0.3.6', 'D5', 'C#5', 'C5', '2.6.9', 'C5', '7.10.2', 'G#5', '3.8', 'G#5', '3.8', 'G4', '3.7', 'F#4', '6.9', 'F#5', '6.9', 'G5', '7.10', 'G5', '7.10', 'G#4', '3.8', 'G#5', '3.8', 'G#5', '3.8', 'G4', '3.7', 'F#4', '6.9', 'F#5', '6.9', 'G5', '7.10', 'G5', '7.10', 'F4', '5.8', 'F5', '5.8', 'F5', '3.8', 'E-4', '3.8', 'D4', '2.8', 'D5', '2.8', 'D5', '8.0', 'C4', '8.0', 'C4', '0.3', 'C5', '0.3', 'C5', '0.3', 'B-4', '10.2', 'B-4', '10.2', 'A4', '9.0', 'G4', '7.10', 'F#4', '6.9', '7.10', 'G#5', '3.8', 'G#5', '3.8', 'G4', '3.7', 'F#4', '6.9', 'F#5', '6.9', 'G5', '7.10', 'G5', '7.10', 'G#4', '3.8', 'G#5', '3.8', 'G#5', '3.8', 'G4', '7.0', 'F#4', '6.9', 'F#5', '6.9', 'G5', '7.10', 'G5', '7.10', 'F4', '5.8', 'F5', '5.8', 'F5', '3.7', 'E-4', '3.7', 'D4', '2.6', 'D5', '2.6', 'D5', '1.4', 'C#4', '1.4', 'C4', '0.3', 'C5', '0.3', 'B4', '11.3', 'C5', '0.3', 'C5', '0.3', 'E-5', '3.6', 'D5', '2.6', 'E-5', '3.6', 'E-5', '3.6', 'F#5', '6.10', 'F5', '5.8', 'F#5', '6.9', 'F#5', '6.9', 'A5', '9.0', 'B-5', '10.2', 'C6', '0.3', 'C6', '0.3', 'B-5', '10.2', 'B-5', '10.2', 'A5', '9.0', 'A5', '9.0', 'G5', '7.10', 'G5', '7.10', 'D5', '2.6', 'B-5', '10.2', 'B-5', '10.1', 'B-5', '9.0', 'A5', '9.0', 'A5', '7.10', 'G5', '7.10', 'G5', '2.6', 'D5', 'D6', '7.10.2', 'D6', '7.10.2', 'D5', '7.10.2', 'D4', '7.10.2', 'D3', '4.7.10', 'D3', '4.7.10', 'D3', '4.7.10', 'D3', '4.7.10', 'D3', 'G3', 'G#3', 'A3', 'B-3', 'B3', 'C4', 'C#4', 'D4', 'E-4', 'E4', 'F4', 'F#4', 'G4', 'G#4', 'A4', 'B-4', 'B4', 'C5', 'C#5', 'D5', 'E-5', 'E5', 'F5', 'F#5', 'G5', 'G#5', 'A5', 'B-5', 'B5', 'C6', 'C#6', 'D6', 'E-6', 'E6', 'F6', 'F#6', 'G6', 'G#6', 'A6', 'B-6', 'B6', 'C#7', 'E-7', 'D7', 'F7', 'E-7', 'D7', 'C7', 'B6', 'D7', 'C7', 'B-6', 'A6', 'G6', 'F#6', 'A6', 'G6', 'F#6', 'E-6', 'D6', 'E-6', 'D6', 'F6', 'E-6', 'D6', 'C6', 'B5', 'D6', 'C6', 'B-5', 'A5', 'G5', 'F#5', 'A5', 'G5', 'F#5', 'E-5', 'D5', 'E-5', 'D5', 'F5', 'E-5', 'D5', 'C5', 'B4', 'D5', 'C5', 'B-4', 'A4', 'G4', 'F#4', 'E-4', 'D4', 'C4', 'B-3', 'A3', 'G3', 'F#3', 'E-3', 'D3', 'C3', 'B-2', 'A2', 'G2', 'F#2', 'E-2', 'D2', 'C2', 'B-1', 'A1', 'A2', 'B-2', 'C3', 'D3', 'E3', 'F#3', 'G3', 'A3', 'B-3', 'C4', 'D4', 'E4', 'F#4', 'G4', 'A4', 'B-4', 'C5', 'D5', 'E5', 'F#5', 'G5', 'B-2', 'C3', 'D3', 'E3', 'F#3', 'G3', 'A3', 'B-3', 'C4', 'D4', 'E4', 'F#4', 'G4', 'A4', 'B-4', 'C5', 'D5', 'E5', 'F#5', 'G5', 'A5', 'B-5', 'C6', 'D6', 'E6', 'F#6', 'G6', 'A6', 'B-6', '7.10.2', '7.10.2', '7.10.2', 'D4', 'G4', 'B-4', 'E-5', 'D5', 'D5', '4', '3', '2', '1', '0', '11', '10', '9', '8', '7', '6', '5', '4', '3', '2', '1', '0', '11', '10', '9', '8', '7', '7.10.2', 'G3']\n"
          ]
        }
      ],
      "source": [
        "notes = []\n",
        "track = 0\n",
        "\n",
        "for i, file in enumerate(glob.glob(\"drive/MyDrive/VIGOR/AE/music/*.mid\")):\n",
        "    midi = converter.parse(file)\n",
        "    # There are multiple tracks in the MIDI file, so we'll use the first one\n",
        "    midi = midi[track]\n",
        "    notes_to_parse = None\n",
        "        \n",
        "    # Parse the midi file by the notes it contains\n",
        "    notes_to_parse = midi.flat.notes\n",
        "        \n",
        "    for element in notes_to_parse:\n",
        "        if isinstance(element, note.Note):\n",
        "            notes.append(str(element.pitch))\n",
        "        elif isinstance(element, chord.Chord):\n",
        "            # get's the normal order (numerical representation) of the chord\n",
        "            notes.append('.'.join(str(n) for n in element.normalOrder))\n",
        "    print(\"Song {} Loaded\".format(i+1))\n",
        "                \n",
        "print(\"DONE LOADING SONGS\")    \n",
        "# Get all pitch names\n",
        "pitches = sorted(set(item for item in notes))\n",
        "# Get all pitch names\n",
        "vocab_length = len(pitches)  \n",
        "number_notes = len(notes)\n",
        "print(vocab_length)\n",
        "print(notes)"
      ]
    },
    {
      "cell_type": "markdown",
      "metadata": {
        "id": "d9LsVCas7RvQ"
      },
      "source": [
        "Now we must get these notes in a usable form for our LSTM. Let's construct sequences that can be grouped together to predict the next note in groups of 10 notes."
      ]
    },
    {
      "cell_type": "code",
      "execution_count": 5,
      "metadata": {
        "id": "tIGkexoU7RvS",
        "outputId": "911f966a-32c2-4500-a419-b6b448183d78",
        "colab": {
          "base_uri": "https://localhost:8080/"
        }
      },
      "outputs": [
        {
          "output_type": "stream",
          "name": "stdout",
          "text": [
            "50\n",
            "152\n"
          ]
        }
      ],
      "source": [
        "# Let's use One Hot Encoding for each of the notes and create an array as such of sequences. \n",
        "#Let's first assign an index to each of the possible notes\n",
        "note_dict = dict()\n",
        "for i, note in enumerate(pitches):\n",
        "    note_dict[note] = i\n",
        "#print(note_dict)\n",
        "\n",
        "# Now let's construct sequences. Taking each note and encoding it as a numpy array with a 1 in the position of the note it has\n",
        "sequence_length = 50\n",
        "# Lets make a numpy array with the number of training examples, sequence length, and the length of the one-hot-encoding\n",
        "num_training = number_notes - sequence_length\n",
        "\n",
        "input_notes = np.zeros((num_training, sequence_length, vocab_length))\n",
        "output_notes = np.zeros((num_training, vocab_length))\n",
        "\n",
        "for i in range(0, num_training):\n",
        "    # Here, i is the training example, j is the note in the sequence for a specific training example\n",
        "    input_sequence = notes[i: i+sequence_length]\n",
        "    output_note = notes[i+sequence_length]\n",
        "    for j, note in enumerate(input_sequence):\n",
        "        input_notes[i][j][note_dict[note]] = 1\n",
        "    output_notes[i][note_dict[output_note]] = 1\n",
        "\n",
        "print(len(input_notes[2049]))\n",
        "print(len(input_notes[2049][49]))\n",
        "\n",
        "# print(np.reshape(input_notes[0], (25, 25)))\n"
      ]
    },
    {
      "cell_type": "code",
      "source": [
        "import xarray as xr\n",
        "import numpy as np\n",
        "\n",
        "\n",
        "# Create a 10x10 array of random numbers\n",
        "\n",
        "\n",
        "data = np.array([[0,0,0,0,0,0,0,0,0,0,0,0,0,0,0,0,0,0]])\n",
        "\n",
        "count = 0;\n",
        "\n",
        "for x in input_notes:\n",
        "  for y in x:\n",
        "    \n",
        "    count += 1\n",
        "    j = np.array(y)\n",
        "    j = np.append(j, np.zeros(10))\n",
        "    a = xr.DataArray([j], dims=['x', 'y'])\n",
        "\n",
        "    # \"Downscale\" the array, mean of blocks of size (2x2)\n",
        "    b = a.coarsen(x=1, y=9).sum()\n",
        "    t = np.array(b[0])\n",
        "    data = np.append(data, [t], axis=0)\n",
        "    if count >= 10000:\n",
        "      break\n",
        "  if count >= 10000:\n",
        "      break\n",
        "data = np.delete(data, 0, axis=0)\n",
        "\n"
      ],
      "metadata": {
        "id": "qtsj2iow9XVA",
        "outputId": "fa15f3db-da8a-4aa5-c1cc-d41d92c00f7a",
        "colab": {
          "base_uri": "https://localhost:8080/"
        }
      },
      "execution_count": 30,
      "outputs": [
        {
          "output_type": "stream",
          "name": "stdout",
          "text": [
            "10000\n"
          ]
        }
      ]
    },
    {
      "cell_type": "code",
      "source": [
        "print(len(data))\n",
        "x = data[:5000]\n",
        "print(len(x))\n",
        "y = data[5000:10000]\n",
        "print(len(y))\n",
        "np.savetxt(\"drive/MyDrive/VIGOR/AE/CSVs/target.csv\", x, delimiter=\",\")\n",
        "np.savetxt(\"drive/MyDrive/VIGOR/AE/NW-CSVs/target-2.csv\", y, delimiter=\",\")"
      ],
      "metadata": {
        "colab": {
          "base_uri": "https://localhost:8080/"
        },
        "id": "0ZbLgjSFHQfb",
        "outputId": "999d9f2e-fb4e-4e41-effe-71f30d2406b4"
      },
      "execution_count": 34,
      "outputs": [
        {
          "output_type": "stream",
          "name": "stdout",
          "text": [
            "10000\n",
            "5000\n",
            "5000\n"
          ]
        }
      ]
    }
  ],
  "metadata": {
    "kernelspec": {
      "display_name": "Python 2",
      "language": "python",
      "name": "python2"
    },
    "language_info": {
      "codemirror_mode": {
        "name": "ipython",
        "version": 2
      },
      "file_extension": ".py",
      "mimetype": "text/x-python",
      "name": "python",
      "nbconvert_exporter": "python",
      "pygments_lexer": "ipython2",
      "version": "2.7.14"
    },
    "colab": {
      "name": "Preprocessing.ipynb",
      "provenance": [],
      "include_colab_link": true
    }
  },
  "nbformat": 4,
  "nbformat_minor": 0
}